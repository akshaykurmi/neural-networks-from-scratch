{
 "cells": [
  {
   "cell_type": "code",
   "execution_count": 1,
   "metadata": {},
   "outputs": [],
   "source": [
    "%run ./load_nnfs_module.py"
   ]
  },
  {
   "cell_type": "code",
   "execution_count": 2,
   "metadata": {},
   "outputs": [],
   "source": [
    "import numpy as np\n",
    "\n",
    "from nnfs.datasets import MNISTDigits\n",
    "from nnfs.activations import ReLU, Softmax\n",
    "from nnfs.losses import CategoricalCrossentropy\n",
    "from nnfs.optimizers import Momentum\n",
    "from nnfs.initializers import HeNormal, GlorotNormal, Zeros\n",
    "from nnfs.metrics import CategoricalAccuracy\n",
    "from nnfs.layers import Dense, Dropout, Convolution2D, MaxPooling2D, Flatten\n",
    "from nnfs.models import FeedForwardNetwork\n",
    "from nnfs.utils.preprocessing import OneHotEncoder, normalize"
   ]
  },
  {
   "cell_type": "code",
   "execution_count": 3,
   "metadata": {},
   "outputs": [
    {
     "name": "stdout",
     "output_type": "stream",
     "text": [
      "Data has already been downloaded.\n"
     ]
    }
   ],
   "source": [
    "dataset = MNISTDigits()\n",
    "dataset.download_data()\n",
    "X_train, y_train, X_test, y_test = dataset.load_data()"
   ]
  },
  {
   "cell_type": "code",
   "execution_count": 4,
   "metadata": {},
   "outputs": [],
   "source": [
    "X_train = X_train.reshape((-1, 1, 28, 28))\n",
    "X_test = X_test.reshape((-1, 1, 28, 28))\n",
    "X_train, X_test = normalize(X_train, X_test)"
   ]
  },
  {
   "cell_type": "code",
   "execution_count": 5,
   "metadata": {},
   "outputs": [],
   "source": [
    "ohe = OneHotEncoder()\n",
    "y_train = ohe.fit_transform(y_train)\n",
    "y_test = ohe.transform(y_test)"
   ]
  },
  {
   "cell_type": "code",
   "execution_count": 6,
   "metadata": {},
   "outputs": [],
   "source": [
    "model = FeedForwardNetwork()\n",
    "model.add(Convolution2D(num_filters=16,\n",
    "                        filter_size=(5, 5), \n",
    "                        stride=1,\n",
    "                        padding=0, \n",
    "                        activation=ReLU(), \n",
    "                        weights_initializer=HeNormal(), \n",
    "                        bias_initializer=Zeros(),\n",
    "                        input_shape=(1, 28, 28)))\n",
    "model.add(MaxPooling2D(pool_size=(2, 2),\n",
    "                       stride=2))\n",
    "model.add(Convolution2D(num_filters=32,\n",
    "                        filter_size=(3, 3), \n",
    "                        stride=1,\n",
    "                        padding=0, \n",
    "                        activation=ReLU(), \n",
    "                        weights_initializer=HeNormal(), \n",
    "                        bias_initializer=Zeros()))\n",
    "model.add(MaxPooling2D(pool_size=(2, 2),\n",
    "                       stride=2))\n",
    "model.add(Flatten())\n",
    "model.add(Dropout(0.3))\n",
    "model.add(Dense(units=64,\n",
    "                activation=ReLU(),\n",
    "                weights_initializer=HeNormal(),\n",
    "                bias_initializer=Zeros()))\n",
    "model.add(Dense(units=10,\n",
    "                activation=Softmax(),\n",
    "                weights_initializer=GlorotNormal(),\n",
    "                bias_initializer=Zeros()))\n",
    "model.compile(optimizer=Momentum(learning_rate=0.001, nesterov=True, clip_value=0.05),\n",
    "              loss=CategoricalCrossentropy(),\n",
    "              metrics=[CategoricalAccuracy()])"
   ]
  },
  {
   "cell_type": "code",
   "execution_count": 7,
   "metadata": {},
   "outputs": [
    {
     "name": "stdout",
     "output_type": "stream",
     "text": [
      "+---------------+--------------------+--------------------+-----------+\n",
      "| Layer         | Input Shape        | Output Shape       | # Params  |\n",
      "+---------------+--------------------+--------------------+-----------+\n",
      "| Convolution2D | (None, 1, 28, 28)  | (None, 16, 24, 24) | 6,400     |\n",
      "| MaxPooling2D  | (None, 16, 24, 24) | (None, 16, 12, 12) | 0         |\n",
      "| Convolution2D | (None, 16, 12, 12) | (None, 32, 10, 10) | 147,456   |\n",
      "| MaxPooling2D  | (None, 32, 10, 10) | (None, 32, 5, 5)   | 0         |\n",
      "| Flatten       | (None, 32, 5, 5)   | (None, 800)        | 0         |\n",
      "| Dropout       | (None, 800)        | (None, 800)        | 0         |\n",
      "| Dense         | (None, 800)        | (None, 64)         | 3,276,800 |\n",
      "| Dense         | (None, 64)         | (None, 10)         | 6,400     |\n",
      "+---------------+--------------------+--------------------+-----------+\n",
      "Total params: 3,437,056\n"
     ]
    }
   ],
   "source": [
    "model.summary()"
   ]
  },
  {
   "cell_type": "code",
   "execution_count": 8,
   "metadata": {},
   "outputs": [
    {
     "name": "stderr",
     "output_type": "stream",
     "text": [
      "Epoch 1 | Batch 1875/1875 |██████████| ETA: 00:00 | 7.63batch/s, CategoricalCrossentropy=0.121, CategoricalAccuracy=0.974\n",
      "Epoch 2 | Batch 1875/1875 |██████████| ETA: 00:00 | 7.77batch/s, CategoricalCrossentropy=0.103, CategoricalAccuracy=0.976\n",
      "Epoch 3 | Batch 1875/1875 |██████████| ETA: 00:00 | 7.70batch/s, CategoricalCrossentropy=0.099, CategoricalAccuracy=0.982\n"
     ]
    },
    {
     "name": "stdout",
     "output_type": "stream",
     "text": [
      "Test Loss : 0.061833575672296366\n",
      "Test Metrics : {'CategoricalAccuracy': 0.9837}\n"
     ]
    }
   ],
   "source": [
    "model.fit(X_train, y_train, batch_size=32, epochs=3, verbosity=2)\n",
    "loss, metrics = model.evaluate(X_test, y_test, batch_size=32)\n",
    "print(\"Test Loss :\", loss)\n",
    "print(\"Test Metrics :\", metrics)"
   ]
  },
  {
   "cell_type": "code",
   "execution_count": null,
   "metadata": {},
   "outputs": [],
   "source": []
  }
 ],
 "metadata": {
  "kernelspec": {
   "display_name": "Python 3",
   "language": "python",
   "name": "python3"
  },
  "language_info": {
   "codemirror_mode": {
    "name": "ipython",
    "version": 3
   },
   "file_extension": ".py",
   "mimetype": "text/x-python",
   "name": "python",
   "nbconvert_exporter": "python",
   "pygments_lexer": "ipython3",
   "version": "3.6.9"
  }
 },
 "nbformat": 4,
 "nbformat_minor": 2
}
